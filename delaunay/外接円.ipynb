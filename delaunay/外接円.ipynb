{
 "cells": [
  {
   "cell_type": "code",
   "execution_count": 1,
   "metadata": {},
   "outputs": [],
   "source": [
    "using SymPy"
   ]
  },
  {
   "cell_type": "code",
   "execution_count": 2,
   "metadata": {},
   "outputs": [
    {
     "data": {
      "text/plain": [
       "(x1, x2, x3, y1, y2, y3, a, b, r)"
      ]
     },
     "execution_count": 2,
     "metadata": {},
     "output_type": "execute_result"
    }
   ],
   "source": [
    "@syms x1 x2 x3 y1 y2 y3 a b r"
   ]
  },
  {
   "cell_type": "code",
   "execution_count": 3,
   "metadata": {},
   "outputs": [
    {
     "data": {
      "text/latex": [
       "\\begin{equation*}- r^{2} + \\left(- a + x_{3}\\right)^{2} + \\left(- b + y_{3}\\right)^{2}\\end{equation*}"
      ],
      "text/plain": [
       "   2            2            2\n",
       "- r  + (-a + x3)  + (-b + y3) "
      ]
     },
     "execution_count": 3,
     "metadata": {},
     "output_type": "execute_result"
    }
   ],
   "source": [
    "eq1 = (x1 - a)^2 + (y1 - b)^2 - r^2\n",
    "eq2 = (x2 - a)^2 + (y2 - b)^2 - r^2\n",
    "eq3 = (x3 - a)^2 + (y3 - b)^2 - r^2"
   ]
  },
  {
   "cell_type": "code",
   "execution_count": 4,
   "metadata": {},
   "outputs": [
    {
     "data": {
      "text/latex": [
       "\\begin{equation*}- 2 a x_{2} + 2 a x_{3} - 2 b y_{2} + 2 b y_{3} + x_{2}^{2} - x_{3}^{2} + y_{2}^{2} - y_{3}^{2}\\end{equation*}"
      ],
      "text/plain": [
       "                                       2     2     2     2\n",
       "-2*a*x2 + 2*a*x3 - 2*b*y2 + 2*b*y3 + x2  - x3  + y2  - y3 "
      ]
     },
     "execution_count": 4,
     "metadata": {},
     "output_type": "execute_result"
    }
   ],
   "source": [
    "eqa = expand(eq1 - eq2)\n",
    "eqb = expand(eq2 - eq3)"
   ]
  },
  {
   "cell_type": "code",
   "execution_count": 6,
   "metadata": {},
   "outputs": [
    {
     "data": {
      "text/plain": [
       "Dict{Any,Any} with 2 entries:\n",
       "  b => ((x1 - x2)*(x2^2 - x3^2 + y2^2 - y3^2) - (x2 - x3)*(x1^2 - x2^2 + y1^2 -…\n",
       "  a => (-(y1 - y2)*(x2^2 - x3^2 + y2^2 - y3^2) + (y2 - y3)*(x1^2 - x2^2 + y1^2 …"
      ]
     },
     "execution_count": 6,
     "metadata": {},
     "output_type": "execute_result"
    }
   ],
   "source": [
    "result = solve([eqa, eqb], [a, b])"
   ]
  },
  {
   "cell_type": "code",
   "execution_count": 7,
   "metadata": {},
   "outputs": [
    {
     "data": {
      "text/latex": [
       "\\begin{equation*}\\frac{- \\left(y_{1} - y_{2}\\right) \\left(x_{2}^{2} - x_{3}^{2} + y_{2}^{2} - y_{3}^{2}\\right) + \\left(y_{2} - y_{3}\\right) \\left(x_{1}^{2} - x_{2}^{2} + y_{1}^{2} - y_{2}^{2}\\right)}{2 \\left(\\left(x_{1} - x_{2}\\right) \\left(y_{2} - y_{3}\\right) - \\left(x_{2} - x_{3}\\right) \\left(y_{1} - y_{2}\\right)\\right)}\\end{equation*}"
      ],
      "text/plain": [
       "            /  2     2     2     2\\             /  2     2     2     2\\\n",
       "- (y1 - y2)*\\x2  - x3  + y2  - y3 / + (y2 - y3)*\\x1  - x2  + y1  - y2 /\n",
       "-----------------------------------------------------------------------\n",
       "             2*((x1 - x2)*(y2 - y3) - (x2 - x3)*(y1 - y2))             "
      ]
     },
     "execution_count": 7,
     "metadata": {},
     "output_type": "execute_result"
    }
   ],
   "source": [
    "a_ = result[a]"
   ]
  },
  {
   "cell_type": "code",
   "execution_count": 8,
   "metadata": {},
   "outputs": [
    {
     "data": {
      "text/latex": [
       "\\begin{equation*}\\frac{\\left(x_{1} - x_{2}\\right) \\left(x_{2}^{2} - x_{3}^{2} + y_{2}^{2} - y_{3}^{2}\\right) - \\left(x_{2} - x_{3}\\right) \\left(x_{1}^{2} - x_{2}^{2} + y_{1}^{2} - y_{2}^{2}\\right)}{2 \\left(\\left(x_{1} - x_{2}\\right) \\left(y_{2} - y_{3}\\right) - \\left(x_{2} - x_{3}\\right) \\left(y_{1} - y_{2}\\right)\\right)}\\end{equation*}"
      ],
      "text/plain": [
       "          /  2     2     2     2\\             /  2     2     2     2\\\n",
       "(x1 - x2)*\\x2  - x3  + y2  - y3 / - (x2 - x3)*\\x1  - x2  + y1  - y2 /\n",
       "---------------------------------------------------------------------\n",
       "            2*((x1 - x2)*(y2 - y3) - (x2 - x3)*(y1 - y2))            "
      ]
     },
     "execution_count": 8,
     "metadata": {},
     "output_type": "execute_result"
    }
   ],
   "source": [
    "b_ = result[b]"
   ]
  },
  {
   "cell_type": "markdown",
   "metadata": {},
   "source": [
    "## 四面体に外接する球の中心"
   ]
  },
  {
   "cell_type": "code",
   "execution_count": 11,
   "metadata": {},
   "outputs": [
    {
     "data": {
      "text/plain": [
       "(x1, x2, x3, x4, y1, y2, y3, y4, z1, z2, z3, z4, a, b, c, r)"
      ]
     },
     "execution_count": 11,
     "metadata": {},
     "output_type": "execute_result"
    }
   ],
   "source": [
    "@syms x1 x2 x3 x4 y1 y2 y3 y4 z1 z2 z3 z4 a b c r"
   ]
  },
  {
   "cell_type": "code",
   "execution_count": 12,
   "metadata": {},
   "outputs": [
    {
     "data": {
      "text/latex": [
       "\\begin{equation*}- r^{2} + \\left(- a + x_{4}\\right)^{2} + \\left(- b + y_{4}\\right)^{2} + \\left(- c + z_{4}\\right)^{2}\\end{equation*}"
      ],
      "text/plain": [
       "   2            2            2            2\n",
       "- r  + (-a + x4)  + (-b + y4)  + (-c + z4) "
      ]
     },
     "execution_count": 12,
     "metadata": {},
     "output_type": "execute_result"
    }
   ],
   "source": [
    "eq1 = (x1 - a)^2 + (y1 - b)^2 + (z1 - c)^2 - r^2\n",
    "eq2 = (x2 - a)^2 + (y2 - b)^2 + (z2 - c)^2 - r^2\n",
    "eq3 = (x3 - a)^2 + (y3 - b)^2 + (z3 - c)^2 - r^2\n",
    "eq4 = (x4 - a)^2 + (y4 - b)^2 + (z4 - c)^2 - r^2"
   ]
  },
  {
   "cell_type": "code",
   "execution_count": 13,
   "metadata": {},
   "outputs": [
    {
     "data": {
      "text/latex": [
       "\\begin{equation*}- 2 a x_{3} + 2 a x_{4} - 2 b y_{3} + 2 b y_{4} - 2 c z_{3} + 2 c z_{4} + x_{3}^{2} - x_{4}^{2} + y_{3}^{2} - y_{4}^{2} + z_{3}^{2} - z_{4}^{2}\\end{equation*}"
      ],
      "text/plain": [
       "                                                         2     2     2     2  \n",
       "-2*a*x3 + 2*a*x4 - 2*b*y3 + 2*b*y4 - 2*c*z3 + 2*c*z4 + x3  - x4  + y3  - y4  +\n",
       "\n",
       "   2     2\n",
       " z3  - z4 "
      ]
     },
     "execution_count": 13,
     "metadata": {},
     "output_type": "execute_result"
    }
   ],
   "source": [
    "eqa = expand(eq1 - eq2)\n",
    "eqb = expand(eq2 - eq3)\n",
    "eqc = expand(eq3 - eq4)"
   ]
  },
  {
   "cell_type": "code",
   "execution_count": 14,
   "metadata": {},
   "outputs": [
    {
     "data": {
      "text/plain": [
       "Dict{Any,Any} with 3 entries:\n",
       "  b => (-((x1 - x2)*(z2 - z3) - (x2 - x3)*(z1 - z2))*(x3^2 - x4^2 + y3^2 - y4^2…\n",
       "  c => (((x1 - x2)*(y2 - y3) - (x2 - x3)*(y1 - y2))*(x3^2 - x4^2 + y3^2 - y4^2 …\n",
       "  a => (((y1 - y2)*(z2 - z3) - (y2 - y3)*(z1 - z2))*(x3^2 - x4^2 + y3^2 - y4^2 …"
      ]
     },
     "execution_count": 14,
     "metadata": {},
     "output_type": "execute_result"
    }
   ],
   "source": [
    "result = solve([eqa, eqb, eqc], [a, b, c])"
   ]
  },
  {
   "cell_type": "code",
   "execution_count": 15,
   "metadata": {},
   "outputs": [
    {
     "data": {
      "text/latex": [
       "\\begin{equation*}\\frac{\\frac{\\left(\\left(y_{1} - y_{2}\\right) \\left(z_{2} - z_{3}\\right) - \\left(y_{2} - y_{3}\\right) \\left(z_{1} - z_{2}\\right)\\right) \\left(x_{3}^{2} - x_{4}^{2} + y_{3}^{2} - y_{4}^{2} + z_{3}^{2} - z_{4}^{2}\\right)}{2} - \\frac{\\left(\\left(y_{1} - y_{2}\\right) \\left(z_{3} - z_{4}\\right) - \\left(y_{3} - y_{4}\\right) \\left(z_{1} - z_{2}\\right)\\right) \\left(x_{2}^{2} - x_{3}^{2} + y_{2}^{2} - y_{3}^{2} + z_{2}^{2} - z_{3}^{2}\\right)}{2} + \\frac{\\left(\\left(y_{2} - y_{3}\\right) \\left(z_{3} - z_{4}\\right) - \\left(y_{3} - y_{4}\\right) \\left(z_{2} - z_{3}\\right)\\right) \\left(x_{1}^{2} - x_{2}^{2} + y_{1}^{2} - y_{2}^{2} + z_{1}^{2} - z_{2}^{2}\\right)}{2}}{\\left(x_{1} - x_{2}\\right) \\left(y_{2} - y_{3}\\right) \\left(z_{3} - z_{4}\\right) - \\left(x_{1} - x_{2}\\right) \\left(y_{3} - y_{4}\\right) \\left(z_{2} - z_{3}\\right) - \\left(x_{2} - x_{3}\\right) \\left(y_{1} - y_{2}\\right) \\left(z_{3} - z_{4}\\right) + \\left(x_{2} - x_{3}\\right) \\left(y_{3} - y_{4}\\right) \\left(z_{1} - z_{2}\\right) + \\left(x_{3} - x_{4}\\right) \\left(y_{1} - y_{2}\\right) \\left(z_{2} - z_{3}\\right) - \\left(x_{3} - x_{4}\\right) \\left(y_{2} - y_{3}\\right) \\left(z_{1} - z_{2}\\right)}\\end{equation*}"
      ],
      "text/plain": [
       "                                            /  2     2     2     2     2     2\n",
       "((y1 - y2)*(z2 - z3) - (y2 - y3)*(z1 - z2))*\\x3  - x4  + y3  - y4  + z3  - z4 \n",
       "------------------------------------------------------------------------------\n",
       "                                       2                                      \n",
       "------------------------------------------------------------------------------\n",
       "                           (x1 - x2)*(y2 - y3)*(z3 - z4) - (x1 - x2)*(y3 - y4)\n",
       "\n",
       "\\                                               /  2     2     2     2     2  \n",
       "/   ((y1 - y2)*(z3 - z4) - (y3 - y4)*(z1 - z2))*\\x2  - x3  + y2  - y3  + z2  -\n",
       "- - --------------------------------------------------------------------------\n",
       "                                           2                                  \n",
       "------------------------------------------------------------------------------\n",
       "*(z2 - z3) - (x2 - x3)*(y1 - y2)*(z3 - z4) + (x2 - x3)*(y3 - y4)*(z1 - z2) + (\n",
       "\n",
       "   2\\                                               /  2     2     2     2    \n",
       " z3 /   ((y2 - y3)*(z3 - z4) - (y3 - y4)*(z2 - z3))*\\x1  - x2  + y1  - y2  + z\n",
       "----- + ----------------------------------------------------------------------\n",
       "                                               2                              \n",
       "------------------------------------------------------------------------------\n",
       "x3 - x4)*(y1 - y2)*(z2 - z3) - (x3 - x4)*(y2 - y3)*(z1 - z2)                  \n",
       "\n",
       " 2     2\\\n",
       "1  - z2 /\n",
       "---------\n",
       "         \n",
       "---------\n",
       "         "
      ]
     },
     "execution_count": 15,
     "metadata": {},
     "output_type": "execute_result"
    }
   ],
   "source": [
    "result[a]"
   ]
  },
  {
   "cell_type": "code",
   "execution_count": 16,
   "metadata": {},
   "outputs": [
    {
     "data": {
      "text/latex": [
       "\\begin{equation*}\\frac{- \\frac{\\left(\\left(x_{1} - x_{2}\\right) \\left(z_{2} - z_{3}\\right) - \\left(x_{2} - x_{3}\\right) \\left(z_{1} - z_{2}\\right)\\right) \\left(x_{3}^{2} - x_{4}^{2} + y_{3}^{2} - y_{4}^{2} + z_{3}^{2} - z_{4}^{2}\\right)}{2} + \\frac{\\left(\\left(x_{1} - x_{2}\\right) \\left(z_{3} - z_{4}\\right) - \\left(x_{3} - x_{4}\\right) \\left(z_{1} - z_{2}\\right)\\right) \\left(x_{2}^{2} - x_{3}^{2} + y_{2}^{2} - y_{3}^{2} + z_{2}^{2} - z_{3}^{2}\\right)}{2} - \\frac{\\left(\\left(x_{2} - x_{3}\\right) \\left(z_{3} - z_{4}\\right) - \\left(x_{3} - x_{4}\\right) \\left(z_{2} - z_{3}\\right)\\right) \\left(x_{1}^{2} - x_{2}^{2} + y_{1}^{2} - y_{2}^{2} + z_{1}^{2} - z_{2}^{2}\\right)}{2}}{\\left(x_{1} - x_{2}\\right) \\left(y_{2} - y_{3}\\right) \\left(z_{3} - z_{4}\\right) - \\left(x_{1} - x_{2}\\right) \\left(y_{3} - y_{4}\\right) \\left(z_{2} - z_{3}\\right) - \\left(x_{2} - x_{3}\\right) \\left(y_{1} - y_{2}\\right) \\left(z_{3} - z_{4}\\right) + \\left(x_{2} - x_{3}\\right) \\left(y_{3} - y_{4}\\right) \\left(z_{1} - z_{2}\\right) + \\left(x_{3} - x_{4}\\right) \\left(y_{1} - y_{2}\\right) \\left(z_{2} - z_{3}\\right) - \\left(x_{3} - x_{4}\\right) \\left(y_{2} - y_{3}\\right) \\left(z_{1} - z_{2}\\right)}\\end{equation*}"
      ],
      "text/plain": [
       "                                              /  2     2     2     2     2    \n",
       "  ((x1 - x2)*(z2 - z3) - (x2 - x3)*(z1 - z2))*\\x3  - x4  + y3  - y4  + z3  - z\n",
       "- ----------------------------------------------------------------------------\n",
       "                                         2                                    \n",
       "------------------------------------------------------------------------------\n",
       "                            (x1 - x2)*(y2 - y3)*(z3 - z4) - (x1 - x2)*(y3 - y4\n",
       "\n",
       " 2\\                                               /  2     2     2     2     2\n",
       "4 /   ((x1 - x2)*(z3 - z4) - (x3 - x4)*(z1 - z2))*\\x2  - x3  + y2  - y3  + z2 \n",
       "--- + ------------------------------------------------------------------------\n",
       "                                             2                                \n",
       "------------------------------------------------------------------------------\n",
       ")*(z2 - z3) - (x2 - x3)*(y1 - y2)*(z3 - z4) + (x2 - x3)*(y3 - y4)*(z1 - z2) + \n",
       "\n",
       "     2\\                                               /  2     2     2     2  \n",
       " - z3 /   ((x2 - x3)*(z3 - z4) - (x3 - x4)*(z2 - z3))*\\x1  - x2  + y1  - y2  +\n",
       "------- - --------------------------------------------------------------------\n",
       "                                                 2                            \n",
       "------------------------------------------------------------------------------\n",
       "(x3 - x4)*(y1 - y2)*(z2 - z3) - (x3 - x4)*(y2 - y3)*(z1 - z2)                 \n",
       "\n",
       "   2     2\\\n",
       " z1  - z2 /\n",
       "-----------\n",
       "           \n",
       "-----------\n",
       "           "
      ]
     },
     "execution_count": 16,
     "metadata": {},
     "output_type": "execute_result"
    }
   ],
   "source": [
    "result[b]"
   ]
  },
  {
   "cell_type": "code",
   "execution_count": 17,
   "metadata": {},
   "outputs": [
    {
     "data": {
      "text/latex": [
       "\\begin{equation*}\\frac{\\frac{\\left(\\left(x_{1} - x_{2}\\right) \\left(y_{2} - y_{3}\\right) - \\left(x_{2} - x_{3}\\right) \\left(y_{1} - y_{2}\\right)\\right) \\left(x_{3}^{2} - x_{4}^{2} + y_{3}^{2} - y_{4}^{2} + z_{3}^{2} - z_{4}^{2}\\right)}{2} - \\frac{\\left(\\left(x_{1} - x_{2}\\right) \\left(y_{3} - y_{4}\\right) - \\left(x_{3} - x_{4}\\right) \\left(y_{1} - y_{2}\\right)\\right) \\left(x_{2}^{2} - x_{3}^{2} + y_{2}^{2} - y_{3}^{2} + z_{2}^{2} - z_{3}^{2}\\right)}{2} + \\frac{\\left(\\left(x_{2} - x_{3}\\right) \\left(y_{3} - y_{4}\\right) - \\left(x_{3} - x_{4}\\right) \\left(y_{2} - y_{3}\\right)\\right) \\left(x_{1}^{2} - x_{2}^{2} + y_{1}^{2} - y_{2}^{2} + z_{1}^{2} - z_{2}^{2}\\right)}{2}}{\\left(x_{1} - x_{2}\\right) \\left(y_{2} - y_{3}\\right) \\left(z_{3} - z_{4}\\right) - \\left(x_{1} - x_{2}\\right) \\left(y_{3} - y_{4}\\right) \\left(z_{2} - z_{3}\\right) - \\left(x_{2} - x_{3}\\right) \\left(y_{1} - y_{2}\\right) \\left(z_{3} - z_{4}\\right) + \\left(x_{2} - x_{3}\\right) \\left(y_{3} - y_{4}\\right) \\left(z_{1} - z_{2}\\right) + \\left(x_{3} - x_{4}\\right) \\left(y_{1} - y_{2}\\right) \\left(z_{2} - z_{3}\\right) - \\left(x_{3} - x_{4}\\right) \\left(y_{2} - y_{3}\\right) \\left(z_{1} - z_{2}\\right)}\\end{equation*}"
      ],
      "text/plain": [
       "                                            /  2     2     2     2     2     2\n",
       "((x1 - x2)*(y2 - y3) - (x2 - x3)*(y1 - y2))*\\x3  - x4  + y3  - y4  + z3  - z4 \n",
       "------------------------------------------------------------------------------\n",
       "                                       2                                      \n",
       "------------------------------------------------------------------------------\n",
       "                           (x1 - x2)*(y2 - y3)*(z3 - z4) - (x1 - x2)*(y3 - y4)\n",
       "\n",
       "\\                                               /  2     2     2     2     2  \n",
       "/   ((x1 - x2)*(y3 - y4) - (x3 - x4)*(y1 - y2))*\\x2  - x3  + y2  - y3  + z2  -\n",
       "- - --------------------------------------------------------------------------\n",
       "                                           2                                  \n",
       "------------------------------------------------------------------------------\n",
       "*(z2 - z3) - (x2 - x3)*(y1 - y2)*(z3 - z4) + (x2 - x3)*(y3 - y4)*(z1 - z2) + (\n",
       "\n",
       "   2\\                                               /  2     2     2     2    \n",
       " z3 /   ((x2 - x3)*(y3 - y4) - (x3 - x4)*(y2 - y3))*\\x1  - x2  + y1  - y2  + z\n",
       "----- + ----------------------------------------------------------------------\n",
       "                                               2                              \n",
       "------------------------------------------------------------------------------\n",
       "x3 - x4)*(y1 - y2)*(z2 - z3) - (x3 - x4)*(y2 - y3)*(z1 - z2)                  \n",
       "\n",
       " 2     2\\\n",
       "1  - z2 /\n",
       "---------\n",
       "         \n",
       "---------\n",
       "         "
      ]
     },
     "execution_count": 17,
     "metadata": {},
     "output_type": "execute_result"
    }
   ],
   "source": [
    "result[c]"
   ]
  },
  {
   "cell_type": "code",
   "execution_count": 18,
   "metadata": {},
   "outputs": [
    {
     "name": "stdout",
     "output_type": "stream",
     "text": [
      "(((y1 - y2)*(z2 - z3) - (y2 - y3)*(z1 - z2))*(x3^2 - x4^2 + y3^2 - y4^2 + z3^2 - z4^2)/2 - ((y1 - y2)*(z3 - z4) - (y3 - y4)*(z1 - z2))*(x2^2 - x3^2 + y2^2 - y3^2 + z2^2 - z3^2)/2 + ((y2 - y3)*(z3 - z4) - (y3 - y4)*(z2 - z3))*(x1^2 - x2^2 + y1^2 - y2^2 + z1^2 - z2^2)/2)/((x1 - x2)*(y2 - y3)*(z3 - z4) - (x1 - x2)*(y3 - y4)*(z2 - z3) - (x2 - x3)*(y1 - y2)*(z3 - z4) + (x2 - x3)*(y3 - y4)*(z1 - z2) + (x3 - x4)*(y1 - y2)*(z2 - z3) - (x3 - x4)*(y2 - y3)*(z1 - z2))"
     ]
    }
   ],
   "source": [
    "print(result[a])"
   ]
  },
  {
   "cell_type": "code",
   "execution_count": 19,
   "metadata": {},
   "outputs": [
    {
     "name": "stdout",
     "output_type": "stream",
     "text": [
      "(-((x1 - x2)*(z2 - z3) - (x2 - x3)*(z1 - z2))*(x3^2 - x4^2 + y3^2 - y4^2 + z3^2 - z4^2)/2 + ((x1 - x2)*(z3 - z4) - (x3 - x4)*(z1 - z2))*(x2^2 - x3^2 + y2^2 - y3^2 + z2^2 - z3^2)/2 - ((x2 - x3)*(z3 - z4) - (x3 - x4)*(z2 - z3))*(x1^2 - x2^2 + y1^2 - y2^2 + z1^2 - z2^2)/2)/((x1 - x2)*(y2 - y3)*(z3 - z4) - (x1 - x2)*(y3 - y4)*(z2 - z3) - (x2 - x3)*(y1 - y2)*(z3 - z4) + (x2 - x3)*(y3 - y4)*(z1 - z2) + (x3 - x4)*(y1 - y2)*(z2 - z3) - (x3 - x4)*(y2 - y3)*(z1 - z2))"
     ]
    }
   ],
   "source": [
    "print(result[b])"
   ]
  },
  {
   "cell_type": "code",
   "execution_count": 20,
   "metadata": {},
   "outputs": [
    {
     "name": "stdout",
     "output_type": "stream",
     "text": [
      "(((x1 - x2)*(y2 - y3) - (x2 - x3)*(y1 - y2))*(x3^2 - x4^2 + y3^2 - y4^2 + z3^2 - z4^2)/2 - ((x1 - x2)*(y3 - y4) - (x3 - x4)*(y1 - y2))*(x2^2 - x3^2 + y2^2 - y3^2 + z2^2 - z3^2)/2 + ((x2 - x3)*(y3 - y4) - (x3 - x4)*(y2 - y3))*(x1^2 - x2^2 + y1^2 - y2^2 + z1^2 - z2^2)/2)/((x1 - x2)*(y2 - y3)*(z3 - z4) - (x1 - x2)*(y3 - y4)*(z2 - z3) - (x2 - x3)*(y1 - y2)*(z3 - z4) + (x2 - x3)*(y3 - y4)*(z1 - z2) + (x3 - x4)*(y1 - y2)*(z2 - z3) - (x3 - x4)*(y2 - y3)*(z1 - z2))"
     ]
    }
   ],
   "source": [
    "print(result[c])"
   ]
  },
  {
   "cell_type": "code",
   "execution_count": null,
   "metadata": {},
   "outputs": [],
   "source": []
  }
 ],
 "metadata": {
  "kernelspec": {
   "display_name": "Julia 1.1.0",
   "language": "julia",
   "name": "julia-1.1"
  },
  "language_info": {
   "file_extension": ".jl",
   "mimetype": "application/julia",
   "name": "julia",
   "version": "1.1.0"
  }
 },
 "nbformat": 4,
 "nbformat_minor": 2
}

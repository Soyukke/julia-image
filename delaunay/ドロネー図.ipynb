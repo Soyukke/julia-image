{
 "cells": [
  {
   "cell_type": "code",
   "execution_count": 1,
   "metadata": {},
   "outputs": [],
   "source": [
    "# http://tercel-sakuragaoka.blogspot.com/2011/06/processingdelaunay_3958.html\n",
    "using LinearAlgebra\n",
    "using Base.Iterators\n",
    "import Base.(==)\n",
    "import Base.(+)\n",
    "import Base.(-)"
   ]
  },
  {
   "cell_type": "code",
   "execution_count": 2,
   "metadata": {},
   "outputs": [
    {
     "data": {
      "text/plain": [
       "outer_triangle (generic function with 1 method)"
      ]
     },
     "execution_count": 2,
     "metadata": {},
     "output_type": "execute_result"
    }
   ],
   "source": [
    "struct Point{T}\n",
    "    x::T\n",
    "    y::T\n",
    "end\n",
    "\n",
    "\n",
    "struct Triangle\n",
    "    p1::Point\n",
    "    p2::Point\n",
    "    p3::Point\n",
    "end\n",
    "\n",
    "# Pointの同値判定\n",
    "function (==)(p1::Point, p2::Point)\n",
    "    p1.x == p2.x && p1.y == p2.y\n",
    "end\n",
    "\n",
    "function (+)(p1::Point, p2::Point)\n",
    "    return Point(p1.x + p2.x, p1.y + p2.y)\n",
    "end\n",
    "\n",
    "function (-)(p1::Point, p2::Point)\n",
    "    return Point(p1.x - p2.x, p1.y - p2.y)\n",
    "end\n",
    "\n",
    "# Triangleの同値判定，Setで判別する\n",
    "function (==)(t1::Triangle, t2::Triangle)\n",
    "    Set([t1.p1, t1.p2, t1.p3]) == Set([t2.p2, t2.p1, t2.p3]) \n",
    "end\n",
    "\n",
    "function distance(p1::Point, p2::Point)\n",
    "    return sqrt((p1.x - p2.x)^2 + (p1.y - p2.y)^2)\n",
    "end\n",
    "\n",
    "# \n",
    "struct Circle\n",
    "    center::Point\n",
    "    radius\n",
    "end\n",
    "\n",
    "\n",
    "function circumcircle(t::Triangle)\n",
    "    x1, x2, x3 = t.p1.x, t.p2.x, t.p3.x\n",
    "    y1, y2, y3 = t.p1.y, t.p2.y, t.p3.y\n",
    "    c = 2*((x2 - x1)*(y3 - y1) - (y2 - y1)*(x3 - x1))\n",
    "    x = ((y3-y1)*(x2^2 - x1^2 + y2^2 - y1^2) + (y1 - y2)*(x3^2 - x1^2 + y3^2 - y1^2)) / c\n",
    "    y = ((x1 - x3)*(x2^2 - x1^2 + y2^2 - y1^2) + (x2 - x1)*(x3^2 - x1^2 + y3^2 - y1^2)) / c\n",
    "    r = sqrt((x - x1)^2 + (y - y1)^2)\n",
    "    return Circle(Point(x, y), r)\n",
    "end\n",
    "\n",
    "\n",
    "function is_inner(p::Point, c::Circle)\n",
    "    distance(p, c.center) <= c.radius\n",
    "end\n",
    "\n",
    "function outer_triangle(width, height)\n",
    "    r = sqrt(width^2 + height^2) / 2\n",
    "    x = width / 2\n",
    "    y = height / 2\n",
    "    p1 = Point(x - 2r, y - sqrt(3)*r)\n",
    "    p2 = Point(x + 2r, y - sqrt(3)*r)\n",
    "    p3 = Point(x, y + 2r)\n",
    "    return Triangle(p1, p2, p3)\n",
    "end"
   ]
  },
  {
   "cell_type": "code",
   "execution_count": 3,
   "metadata": {},
   "outputs": [
    {
     "data": {
      "text/plain": [
       "Point{Int64}(2, 2)"
      ]
     },
     "execution_count": 3,
     "metadata": {},
     "output_type": "execute_result"
    }
   ],
   "source": [
    "pa = Point(3, 2)\n",
    "pb = Point(3, 2)\n",
    "pc = Point(2, 3)\n",
    "pd = Point(2, 2)"
   ]
  },
  {
   "cell_type": "code",
   "execution_count": 4,
   "metadata": {},
   "outputs": [
    {
     "data": {
      "text/plain": [
       "true"
      ]
     },
     "execution_count": 4,
     "metadata": {},
     "output_type": "execute_result"
    }
   ],
   "source": [
    "pa == pb"
   ]
  },
  {
   "cell_type": "code",
   "execution_count": 5,
   "metadata": {},
   "outputs": [
    {
     "data": {
      "text/plain": [
       "false"
      ]
     },
     "execution_count": 5,
     "metadata": {},
     "output_type": "execute_result"
    }
   ],
   "source": [
    "pa == pc"
   ]
  },
  {
   "cell_type": "code",
   "execution_count": 6,
   "metadata": {},
   "outputs": [
    {
     "data": {
      "text/plain": [
       "Triangle(Point{Int64}(2, 3), Point{Int64}(3, 2), Point{Int64}(2, 2))"
      ]
     },
     "execution_count": 6,
     "metadata": {},
     "output_type": "execute_result"
    }
   ],
   "source": [
    "ta = Triangle(pa, pc, pd)\n",
    "tb = Triangle(pa, pc, pd)\n",
    "tc= Triangle(pa, pa, pc)\n",
    "td = Triangle(pc, pa, pd)"
   ]
  },
  {
   "cell_type": "code",
   "execution_count": 7,
   "metadata": {},
   "outputs": [
    {
     "data": {
      "text/plain": [
       "true"
      ]
     },
     "execution_count": 7,
     "metadata": {},
     "output_type": "execute_result"
    }
   ],
   "source": [
    "ta == tb"
   ]
  },
  {
   "cell_type": "code",
   "execution_count": 8,
   "metadata": {},
   "outputs": [
    {
     "data": {
      "text/plain": [
       "false"
      ]
     },
     "execution_count": 8,
     "metadata": {},
     "output_type": "execute_result"
    }
   ],
   "source": [
    "ta == tc"
   ]
  },
  {
   "cell_type": "code",
   "execution_count": 9,
   "metadata": {},
   "outputs": [
    {
     "data": {
      "text/plain": [
       "true"
      ]
     },
     "execution_count": 9,
     "metadata": {},
     "output_type": "execute_result"
    }
   ],
   "source": [
    "ta == td"
   ]
  },
  {
   "cell_type": "code",
   "execution_count": 10,
   "metadata": {},
   "outputs": [
    {
     "data": {
      "text/plain": [
       "true"
      ]
     },
     "execution_count": 10,
     "metadata": {},
     "output_type": "execute_result"
    }
   ],
   "source": [
    "ta in [td]"
   ]
  },
  {
   "cell_type": "code",
   "execution_count": 11,
   "metadata": {},
   "outputs": [
    {
     "data": {
      "text/plain": [
       "Circle(Point{Float64}(2.5, 2.5), 0.7071067811865476)"
      ]
     },
     "execution_count": 11,
     "metadata": {},
     "output_type": "execute_result"
    }
   ],
   "source": [
    "cc = circumcircle(tb)"
   ]
  },
  {
   "cell_type": "code",
   "execution_count": 12,
   "metadata": {},
   "outputs": [
    {
     "data": {
      "text/plain": [
       "false"
      ]
     },
     "execution_count": 12,
     "metadata": {},
     "output_type": "execute_result"
    }
   ],
   "source": [
    "is_inner(Point(3.3, 2.5), cc)"
   ]
  },
  {
   "cell_type": "code",
   "execution_count": 13,
   "metadata": {},
   "outputs": [
    {
     "data": {
      "text/plain": [
       "Triangle(Point{Float64}(-45.710678118654755, -36.23724356957945), Point{Float64}(95.71067811865476, -36.23724356957945), Point{Float64}(25.0, 95.71067811865476))"
      ]
     },
     "execution_count": 13,
     "metadata": {},
     "output_type": "execute_result"
    }
   ],
   "source": [
    "t_out = outer_triangle(50, 50)"
   ]
  },
  {
   "cell_type": "markdown",
   "metadata": {},
   "source": [
    "## アルゴリズム\n",
    "\n",
    "1. 三角形をひとつ Set0\n",
    "1. ランダムにPointを追加\n",
    "1. 内包している三角形をすべて取り出す. Set1とする\n",
    "1. 全ての点の組み合わせで三角形を作る. Set2とする\n",
    "1. Set2からSet1を取り除く，これをSet3\n",
    "1. (Set0 - Set1)にSet3を追加"
   ]
  },
  {
   "cell_type": "code",
   "execution_count": 14,
   "metadata": {},
   "outputs": [
    {
     "data": {
      "text/plain": [
       "main (generic function with 1 method)"
      ]
     },
     "execution_count": 14,
     "metadata": {},
     "output_type": "execute_result"
    }
   ],
   "source": [
    "function main()\n",
    "    # 関数を作っておく\n",
    "    triangle_points = tri::Triangle -> [tri.p1, tri.p2, tri.p3]\n",
    "    \n",
    "    width = 500\n",
    "    height = 500\n",
    "    # 外部三角形\n",
    "    tri_out = outer_triangle(width, height)\n",
    "    # 初期Triangle set\n",
    "    set0 = Triangle[tri_out]\n",
    "    for _ in 1:50\n",
    "        # 新しいPoint [0~width, 0~height] - [heigth/2, width/2]\n",
    "        p_new = Point(width*rand() - width/2, height*rand() - height/2)\n",
    "        # set0の各Triangleの外接円とp_newを比較，is_innerとなるtriangleを列挙する\n",
    "        set_temp = filter(tri->is_inner(p_new, circumcircle(tri)), set0)\n",
    "        set0 = filter(tri->!(tri in set_temp), set0)\n",
    "        # 1つ１つの三角形から2点取り出して新たに三角形を作る\n",
    "        set2 = Triangle[]\n",
    "        for tri in set_temp\n",
    "            tris_new = [Triangle(p_new, tri.p1, tri.p2), Triangle(p_new, tri.p2, tri.p3), Triangle(p_new, tri.p3, tri.p1)]\n",
    "            push!(set2, tris_new...)\n",
    "        end\n",
    "        # set2の中でTriangleが重複しないものだけ取り出す\n",
    "        set2 = filter(tri->length(findall(x->x==tri, set2))==1, set2)\n",
    "        set0 = push!(set0, set2...)\n",
    "    end\n",
    "    # 最後にtri_outの点を含むTriangleを削除する\n",
    "    has_outer_point = tri -> any(map(x->x in triangle_points(tri_out), triangle_points(tri)))\n",
    "    filter!(tri->!has_outer_point(tri), set0)\n",
    "    set0\n",
    "end"
   ]
  },
  {
   "cell_type": "code",
   "execution_count": 15,
   "metadata": {},
   "outputs": [
    {
     "data": {
      "text/plain": [
       "86-element Array{Triangle,1}:\n",
       " Triangle(Point{Float64}(-20.900422109579864, -66.46015585913057), Point{Float64}(-44.16715619994284, -69.57133545548976), Point{Float64}(-52.1350262218715, -113.25206689065402))\n",
       " Triangle(Point{Float64}(-55.717933292981144, -70.11017807693588), Point{Float64}(-52.1350262218715, -113.25206689065402), Point{Float64}(-44.16715619994284, -69.57133545548976))\n",
       " Triangle(Point{Float64}(161.38911798605295, -88.86454320214531), Point{Float64}(182.95012697376956, -104.7987293418604), Point{Float64}(199.45532201892058, -43.96860855511741))\n",
       " Triangle(Point{Float64}(-20.428661944349102, -240.11894593040682), Point{Float64}(-144.6031492802614, -178.53867550770653), Point{Float64}(-191.72232147618718, -238.3143936026072))\n",
       " Triangle(Point{Float64}(-55.39975794527351, 115.96940512843378), Point{Float64}(-79.90378637003425, 134.62368953860528), Point{Float64}(-78.75472180246356, 93.48457021171708))\n",
       " Triangle(Point{Float64}(217.8033978738353, 15.69317768036251), Point{Float64}(164.85746372127875, 78.3283491450648), Point{Float64}(143.7303406738265, 8.853930103701032))\n",
       " Triangle(Point{Float64}(217.8033978738353, 15.69317768036251), Point{Float64}(143.7303406738265, 8.853930103701032), Point{Float64}(199.45532201892058, -43.96860855511741))\n",
       " Triangle(Point{Float64}(217.8033978738353, 15.69317768036251), Point{Float64}(192.36321678728143, 114.06181912197246), Point{Float64}(164.85746372127875, 78.3283491450648))\n",
       " Triangle(Point{Float64}(70.0034109388784, 170.4292864895607), Point{Float64}(164.85746372127875, 78.3283491450648), Point{Float64}(192.36321678728143, 114.06181912197246))\n",
       " Triangle(Point{Float64}(244.31136977662084, -22.66931702520293), Point{Float64}(199.45532201892058, -43.96860855511741), Point{Float64}(182.95012697376956, -104.7987293418604))\n",
       " Triangle(Point{Float64}(244.31136977662084, -22.66931702520293), Point{Float64}(182.95012697376956, -104.7987293418604), Point{Float64}(208.92362390636856, -157.1304987983041))\n",
       " Triangle(Point{Float64}(244.31136977662084, -22.66931702520293), Point{Float64}(217.8033978738353, 15.69317768036251), Point{Float64}(199.45532201892058, -43.96860855511741))\n",
       " Triangle(Point{Float64}(244.31136977662084, -22.66931702520293), Point{Float64}(192.36321678728143, 114.06181912197246), Point{Float64}(217.8033978738353, 15.69317768036251))\n",
       " ⋮\n",
       " Triangle(Point{Float64}(122.23497717473174, -18.008417062046817), Point{Float64}(61.683935755812456, 17.240290578249812), Point{Float64}(106.50654457472041, -56.56367535556828))\n",
       " Triangle(Point{Float64}(168.29404013868196, -243.37291871324794), Point{Float64}(159.07439373234524, -223.39380578889356), Point{Float64}(-20.428661944349102, -240.11894593040682))\n",
       " Triangle(Point{Float64}(168.29404013868196, -243.37291871324794), Point{Float64}(190.14578780240242, -216.9225091387129), Point{Float64}(159.07439373234524, -223.39380578889356))\n",
       " Triangle(Point{Float64}(-126.20743943789992, 125.15198719764322), Point{Float64}(-168.84164627426503, 112.2106846466989), Point{Float64}(-154.60564118524755, 77.39660450882803))\n",
       " Triangle(Point{Float64}(-126.20743943789992, 125.15198719764322), Point{Float64}(-154.60564118524755, 77.39660450882803), Point{Float64}(-78.75472180246356, 93.48457021171708))\n",
       " Triangle(Point{Float64}(-126.20743943789992, 125.15198719764322), Point{Float64}(-78.75472180246356, 93.48457021171708), Point{Float64}(-79.90378637003425, 134.62368953860528))\n",
       " Triangle(Point{Float64}(-126.20743943789992, 125.15198719764322), Point{Float64}(-79.90378637003425, 134.62368953860528), Point{Float64}(-97.10201267301588, 153.5858387512048))\n",
       " Triangle(Point{Float64}(-126.20743943789992, 125.15198719764322), Point{Float64}(-223.53947345509462, 205.89314580507545), Point{Float64}(-168.84164627426503, 112.2106846466989))\n",
       " Triangle(Point{Float64}(-126.20743943789992, 125.15198719764322), Point{Float64}(-97.10201267301588, 153.5858387512048), Point{Float64}(-104.33932361897936, 221.88952119193948))\n",
       " Triangle(Point{Float64}(-126.20743943789992, 125.15198719764322), Point{Float64}(-104.33932361897936, 221.88952119193948), Point{Float64}(-223.53947345509462, 205.89314580507545))\n",
       " Triangle(Point{Float64}(-126.20743943789992, 125.15198719764322), Point{Float64}(-223.53947345509462, 205.89314580507545), Point{Float64}(61.98049772870837, 214.68288586068417))\n",
       " Triangle(Point{Float64}(-126.20743943789992, 125.15198719764322), Point{Float64}(-201.42426625731304, -214.22732502213847), Point{Float64}(-223.53947345509462, 205.89314580507545))"
      ]
     },
     "execution_count": 15,
     "metadata": {},
     "output_type": "execute_result"
    }
   ],
   "source": [
    "setn = main()"
   ]
  },
  {
   "cell_type": "code",
   "execution_count": 16,
   "metadata": {
    "scrolled": true
   },
   "outputs": [],
   "source": [
    "using Images"
   ]
  },
  {
   "cell_type": "markdown",
   "metadata": {},
   "source": [
    "## 点から点へ向かう直線\n",
    "\n",
    "p1 -> p2"
   ]
  },
  {
   "cell_type": "code",
   "execution_count": 17,
   "metadata": {},
   "outputs": [
    {
     "data": {
      "text/plain": [
       "draw (generic function with 1 method)"
      ]
     },
     "execution_count": 17,
     "metadata": {},
     "output_type": "execute_result"
    }
   ],
   "source": [
    "function draw(tris::Vector{Triangle})\n",
    "    width = 1000\n",
    "    height = 1000\n",
    "    x_center = width/2\n",
    "    y_center = height/2\n",
    "    img = Gray.(zeros(height, width))\n",
    "    for tri in tris\n",
    "        for t in 0:0.001:1\n",
    "            img[ceil.(Int, t*[tri.p1.x, tri.p1.y] + (1-t)*[tri.p2.x, tri.p2.y] + [x_center, y_center])...] = 1.0\n",
    "            img[ceil.(Int, t*[tri.p2.x, tri.p2.y] + (1-t)*[tri.p3.x, tri.p3.y] + [x_center, y_center])...] = 1.0\n",
    "            img[ceil.(Int, t*[tri.p3.x, tri.p3.y] + (1-t)*[tri.p1.x, tri.p1.y] + [x_center, y_center])...] = 1.0\n",
    "        end\n",
    "    end\n",
    "    img\n",
    "end"
   ]
  },
  {
   "cell_type": "code",
   "execution_count": 18,
   "metadata": {},
   "outputs": [
    {
     "data": {
      "image/png": "[encoded data removed]",
      "text/plain": [
       "1000×1000 Array{Gray{Float64},2} with eltype Gray{Float64}:\n",
       " Gray{Float64}(0.0)  Gray{Float64}(0.0)  …  Gray{Float64}(0.0)\n",
       " Gray{Float64}(0.0)  Gray{Float64}(0.0)     Gray{Float64}(0.0)\n",
       " Gray{Float64}(0.0)  Gray{Float64}(0.0)     Gray{Float64}(0.0)\n",
       " Gray{Float64}(0.0)  Gray{Float64}(0.0)     Gray{Float64}(0.0)\n",
       " Gray{Float64}(0.0)  Gray{Float64}(0.0)     Gray{Float64}(0.0)\n",
       " Gray{Float64}(0.0)  Gray{Float64}(0.0)  …  Gray{Float64}(0.0)\n",
       " Gray{Float64}(0.0)  Gray{Float64}(0.0)     Gray{Float64}(0.0)\n",
       " Gray{Float64}(0.0)  Gray{Float64}(0.0)     Gray{Float64}(0.0)\n",
       " Gray{Float64}(0.0)  Gray{Float64}(0.0)     Gray{Float64}(0.0)\n",
       " Gray{Float64}(0.0)  Gray{Float64}(0.0)     Gray{Float64}(0.0)\n",
       " Gray{Float64}(0.0)  Gray{Float64}(0.0)  …  Gray{Float64}(0.0)\n",
       " Gray{Float64}(0.0)  Gray{Float64}(0.0)     Gray{Float64}(0.0)\n",
       " Gray{Float64}(0.0)  Gray{Float64}(0.0)     Gray{Float64}(0.0)\n",
       " ⋮                                       ⋱  \n",
       " Gray{Float64}(0.0)  Gray{Float64}(0.0)     Gray{Float64}(0.0)\n",
       " Gray{Float64}(0.0)  Gray{Float64}(0.0)     Gray{Float64}(0.0)\n",
       " Gray{Float64}(0.0)  Gray{Float64}(0.0)  …  Gray{Float64}(0.0)\n",
       " Gray{Float64}(0.0)  Gray{Float64}(0.0)     Gray{Float64}(0.0)\n",
       " Gray{Float64}(0.0)  Gray{Float64}(0.0)     Gray{Float64}(0.0)\n",
       " Gray{Float64}(0.0)  Gray{Float64}(0.0)     Gray{Float64}(0.0)\n",
       " Gray{Float64}(0.0)  Gray{Float64}(0.0)     Gray{Float64}(0.0)\n",
       " Gray{Float64}(0.0)  Gray{Float64}(0.0)  …  Gray{Float64}(0.0)\n",
       " Gray{Float64}(0.0)  Gray{Float64}(0.0)     Gray{Float64}(0.0)\n",
       " Gray{Float64}(0.0)  Gray{Float64}(0.0)     Gray{Float64}(0.0)\n",
       " Gray{Float64}(0.0)  Gray{Float64}(0.0)     Gray{Float64}(0.0)\n",
       " Gray{Float64}(0.0)  Gray{Float64}(0.0)     Gray{Float64}(0.0)"
      ]
     },
     "execution_count": 18,
     "metadata": {},
     "output_type": "execute_result"
    }
   ],
   "source": [
    "imgg = draw(setn[1:end])"
   ]
  },
  {
   "cell_type": "code",
   "execution_count": null,
   "metadata": {},
   "outputs": [],
   "source": [
    "save(img)"
   ]
  },
  {
   "cell_type": "code",
   "execution_count": 19,
   "metadata": {},
   "outputs": [
    {
     "data": {
      "text/plain": [
       "Triangle(Point{Float64}(-20.900422109579864, -66.46015585913057), Point{Float64}(-44.16715619994284, -69.57133545548976), Point{Float64}(-52.1350262218715, -113.25206689065402))"
      ]
     },
     "execution_count": 19,
     "metadata": {},
     "output_type": "execute_result"
    }
   ],
   "source": [
    "setn[1]"
   ]
  },
  {
   "cell_type": "code",
   "execution_count": 20,
   "metadata": {},
   "outputs": [
    {
     "data": {
      "text/plain": [
       "86-element Array{Triangle,1}:\n",
       " Triangle(Point{Float64}(-20.900422109579864, -66.46015585913057), Point{Float64}(-44.16715619994284, -69.57133545548976), Point{Float64}(-52.1350262218715, -113.25206689065402))\n",
       " Triangle(Point{Float64}(-55.717933292981144, -70.11017807693588), Point{Float64}(-52.1350262218715, -113.25206689065402), Point{Float64}(-44.16715619994284, -69.57133545548976))\n",
       " Triangle(Point{Float64}(161.38911798605295, -88.86454320214531), Point{Float64}(182.95012697376956, -104.7987293418604), Point{Float64}(199.45532201892058, -43.96860855511741))\n",
       " Triangle(Point{Float64}(-20.428661944349102, -240.11894593040682), Point{Float64}(-144.6031492802614, -178.53867550770653), Point{Float64}(-191.72232147618718, -238.3143936026072))\n",
       " Triangle(Point{Float64}(-55.39975794527351, 115.96940512843378), Point{Float64}(-79.90378637003425, 134.62368953860528), Point{Float64}(-78.75472180246356, 93.48457021171708))\n",
       " Triangle(Point{Float64}(217.8033978738353, 15.69317768036251), Point{Float64}(164.85746372127875, 78.3283491450648), Point{Float64}(143.7303406738265, 8.853930103701032))\n",
       " Triangle(Point{Float64}(217.8033978738353, 15.69317768036251), Point{Float64}(143.7303406738265, 8.853930103701032), Point{Float64}(199.45532201892058, -43.96860855511741))\n",
       " Triangle(Point{Float64}(217.8033978738353, 15.69317768036251), Point{Float64}(192.36321678728143, 114.06181912197246), Point{Float64}(164.85746372127875, 78.3283491450648))\n",
       " Triangle(Point{Float64}(70.0034109388784, 170.4292864895607), Point{Float64}(164.85746372127875, 78.3283491450648), Point{Float64}(192.36321678728143, 114.06181912197246))\n",
       " Triangle(Point{Float64}(244.31136977662084, -22.66931702520293), Point{Float64}(199.45532201892058, -43.96860855511741), Point{Float64}(182.95012697376956, -104.7987293418604))\n",
       " Triangle(Point{Float64}(244.31136977662084, -22.66931702520293), Point{Float64}(182.95012697376956, -104.7987293418604), Point{Float64}(208.92362390636856, -157.1304987983041))\n",
       " Triangle(Point{Float64}(244.31136977662084, -22.66931702520293), Point{Float64}(217.8033978738353, 15.69317768036251), Point{Float64}(199.45532201892058, -43.96860855511741))\n",
       " Triangle(Point{Float64}(244.31136977662084, -22.66931702520293), Point{Float64}(192.36321678728143, 114.06181912197246), Point{Float64}(217.8033978738353, 15.69317768036251))\n",
       " ⋮\n",
       " Triangle(Point{Float64}(122.23497717473174, -18.008417062046817), Point{Float64}(61.683935755812456, 17.240290578249812), Point{Float64}(106.50654457472041, -56.56367535556828))\n",
       " Triangle(Point{Float64}(168.29404013868196, -243.37291871324794), Point{Float64}(159.07439373234524, -223.39380578889356), Point{Float64}(-20.428661944349102, -240.11894593040682))\n",
       " Triangle(Point{Float64}(168.29404013868196, -243.37291871324794), Point{Float64}(190.14578780240242, -216.9225091387129), Point{Float64}(159.07439373234524, -223.39380578889356))\n",
       " Triangle(Point{Float64}(-126.20743943789992, 125.15198719764322), Point{Float64}(-168.84164627426503, 112.2106846466989), Point{Float64}(-154.60564118524755, 77.39660450882803))\n",
       " Triangle(Point{Float64}(-126.20743943789992, 125.15198719764322), Point{Float64}(-154.60564118524755, 77.39660450882803), Point{Float64}(-78.75472180246356, 93.48457021171708))\n",
       " Triangle(Point{Float64}(-126.20743943789992, 125.15198719764322), Point{Float64}(-78.75472180246356, 93.48457021171708), Point{Float64}(-79.90378637003425, 134.62368953860528))\n",
       " Triangle(Point{Float64}(-126.20743943789992, 125.15198719764322), Point{Float64}(-79.90378637003425, 134.62368953860528), Point{Float64}(-97.10201267301588, 153.5858387512048))\n",
       " Triangle(Point{Float64}(-126.20743943789992, 125.15198719764322), Point{Float64}(-223.53947345509462, 205.89314580507545), Point{Float64}(-168.84164627426503, 112.2106846466989))\n",
       " Triangle(Point{Float64}(-126.20743943789992, 125.15198719764322), Point{Float64}(-97.10201267301588, 153.5858387512048), Point{Float64}(-104.33932361897936, 221.88952119193948))\n",
       " Triangle(Point{Float64}(-126.20743943789992, 125.15198719764322), Point{Float64}(-104.33932361897936, 221.88952119193948), Point{Float64}(-223.53947345509462, 205.89314580507545))\n",
       " Triangle(Point{Float64}(-126.20743943789992, 125.15198719764322), Point{Float64}(-223.53947345509462, 205.89314580507545), Point{Float64}(61.98049772870837, 214.68288586068417))\n",
       " Triangle(Point{Float64}(-126.20743943789992, 125.15198719764322), Point{Float64}(-201.42426625731304, -214.22732502213847), Point{Float64}(-223.53947345509462, 205.89314580507545))"
      ]
     },
     "execution_count": 20,
     "metadata": {},
     "output_type": "execute_result"
    }
   ],
   "source": [
    "setn"
   ]
  },
  {
   "cell_type": "markdown",
   "metadata": {},
   "source": [
    "## STLファイルを出力する"
   ]
  },
  {
   "cell_type": "code",
   "execution_count": 21,
   "metadata": {},
   "outputs": [
    {
     "data": {
      "text/plain": [
       "out_stl (generic function with 1 method)"
      ]
     },
     "execution_count": 21,
     "metadata": {},
     "output_type": "execute_result"
    }
   ],
   "source": [
    "using Printf\n",
    "function out_stl(tris::Vector{Triangle})\n",
    "    lines = \"solid hoge\\n\"\n",
    "    \n",
    "    for tri in tris\n",
    "        lines *= \"facet normal 0.0 0.0 1.0\\n\"\n",
    "        lines *= \"outer loop\\n\"\n",
    "        lines *= @sprintf(\"vertex %f %f %f\\n\", tri.p1.x, tri.p1.y, 0.0)\n",
    "        lines *= @sprintf(\"vertex %f %f %f\\n\", tri.p2.x, tri.p2.y, 0.0)\n",
    "        lines *= @sprintf(\"vertex %f %f %f\\n\", tri.p3.x, tri.p3.y, 0.0)\n",
    "        lines *= \"endloop\\n\"\n",
    "        lines *= \"endfacet\\n\"\n",
    "    end\n",
    "    lines *= \"endsolid hoge\\n\"\n",
    "    f = open(\"test.stl\", \"w\")\n",
    "    write(f, lines)\n",
    "    close(f)\n",
    "end"
   ]
  },
  {
   "cell_type": "code",
   "execution_count": 22,
   "metadata": {},
   "outputs": [],
   "source": [
    "out_stl(setn)"
   ]
  },
  {
   "cell_type": "markdown",
   "metadata": {},
   "source": [
    "## 四面体に外接する球の中心と半径\n",
    "\n",
    "$$\n",
    "(x-a)^2 + (y-b)^2 + (z-c)^2 = r^2 \\\\\n",
    "(x_1 - a)^2 + (y_1 - b)^2 + (z_1 - c)^2 = (x_2 - a)^2 + (y_2 - b)^2 + (z_2 - c)^2\n",
    "= (x_3 - a)^2 + (y_3 - b)^2 + (z_3 - c)^2 = (x_4 - a)^2 + (y_4 - b)^2 + (z_4 - c)^2\n",
    "$$\n",
    "\n",
    "下の連立ほうていしきを解いてa, b, cを求める\n",
    "$$\n",
    "(x_1 - a)^2 + (y_1 - b)^2 + (z_1 - c)^2 = (x_2 - a)^2 + (y_2 - b)^2 + (z_2 - c)^2\\\\\n",
    "(x_2 - a)^2 + (y_2 - b)^2 + (z_2 - c)^2 = (x_3 - a)^2 + (y_3 - b)^2 + (z_3 - c)^2\\\\\n",
    "(x_3 - a)^2 + (y_3 - b)^2 + (z_3 - c)^2 = (x_4 - a)^2 + (y_4 - b)^2 + (z_4 - c)^2\\\\\n",
    "$$\n",
    "\n",
    "一番上の方程式をsimplifyする\n",
    "\n",
    "$$\n",
    "x_1^2 - 2x_1a + a^2 + y_1^2 - 2y_1b + b^2 + z_1^2 - 2z_1c + c^2  =  \n",
    "x_2^2 - 2x_2a + a^2 + y_2^2 - 2y_2b + b^2 + z_2^2 - 2z_2c + c^2 \\\\\n",
    "2(x_2 - x_1)a + 2(y_2 - y_1)b + 2(z_2 - z_1)c + x_1^2  - x_2^2 + y_1^2 - y_2^2 + z_1^2 - z_2^2 = 0\n",
    "$$\n",
    "\n",
    "よって3つの方程式は\n",
    "$$\n",
    "2(x_2 - x_1)a + 2(y_2 - y_1)b + 2(z_2 - z_1)c + x_1^2  - x_2^2 + y_1^2 - y_2^2 + z_1^2 - z_2^2 = 0\\\\\n",
    "2(x_3 - x_2)a + 2(y_3 - y_2)b + 2(z_3 - z_2)c + x_2^2  - x_3^2 + y_2^2 - y_3^2 + z_2^2 - z_3^2 = 0\\\\\n",
    "2(x_4 - x_3)a + 2(y_4 - y_3)b + 2(z_4 - z_3)c + x_3^2  - x_4^2 + y_3^2 - y_4^2 + z_3^2 - z_4^2 = 0\n",
    "$$\n",
    "\n",
    "文字を置き換えておく\n",
    "$$\n",
    "x_{12} = x_2 - x_1\\\\\n",
    "C_{12}  = x_1^2  - x_2^2 + y_1^2 - y_2^2 + z_1^2 - z_2^2\n",
    "$$\n",
    "\n",
    "$$\n",
    "2x_{12}a + 2y_{12}b + 2z_{12}c + C_{12}= 0\\\\\n",
    "2x_{23}a + 2y_{23}b + 2z_{23}c + C_{23}= 0\\\\\n",
    "2x_{34}a + 2y_{34}b + 2z_{34}c + C_{34}= 0\n",
    "$$\n",
    "\n",
    "まずは1, 2でzを消去する\n",
    "\n",
    "$$\n",
    "z_{23}\\left(2x_{12}a + 2y_{12}b + 2z_{12}c + C_{12}\\right) = 0\\\\\n",
    "z_{12}\\left(2x_{23}a + 2y_{23}b + 2z_{23}c + C_{23}\\right) = 0\n",
    "$$\n",
    "\n",
    "辺々引き算して\n",
    "$$\n",
    "2(x_{12}z_{23} - x_{23}z_{12})a + 2(y_{12}z_{23} - y_{23}z_{12})b + (C_{12}z_{23} - C_{23}z_{12}) = 0\n",
    "$$\n",
    "\n",
    "同様に2と3でzを消去\n",
    "$$\n",
    "2(x_{23}z_{34} - x_{34}z_{23})a + 2(y_{23}z_{34} - y_{34}z_{23})b + (C_{23}z_{34} - C_{34}z_{23}) = 0\n",
    "$$\n",
    "\n",
    "続いてyを消去する\n",
    "\n"
   ]
  },
  {
   "cell_type": "code",
   "execution_count": 23,
   "metadata": {},
   "outputs": [
    {
     "data": {
      "text/plain": [
       "outer_tetrahedron (generic function with 1 method)"
      ]
     },
     "execution_count": 23,
     "metadata": {},
     "output_type": "execute_result"
    }
   ],
   "source": [
    "using LinearAlgebra\n",
    "\n",
    "struct Sphere\n",
    "    center\n",
    "    radius\n",
    "end\n",
    "\n",
    "\n",
    "function circumsphere(t)\n",
    "    points = collect(t)\n",
    "    x1, y1, z1 = points[1]\n",
    "    x2, y2, z2 = points[2]\n",
    "    x3, y3, z3 = points[3]\n",
    "    x4, y4, z4 = points[4]\n",
    "    a = (((y1 - y2)*(z2 - z3) - (y2 - y3)*(z1 - z2))*(x3^2 - x4^2 + y3^2 - y4^2 + z3^2 - z4^2)/2 - ((y1 - y2)*(z3 - z4) - (y3 - y4)*(z1 - z2))*(x2^2 - x3^2 + y2^2 - y3^2 + z2^2 - z3^2)/2 + ((y2 - y3)*(z3 - z4) - (y3 - y4)*(z2 - z3))*(x1^2 - x2^2 + y1^2 - y2^2 + z1^2 - z2^2)/2)/((x1 - x2)*(y2 - y3)*(z3 - z4) - (x1 - x2)*(y3 - y4)*(z2 - z3) - (x2 - x3)*(y1 - y2)*(z3 - z4) + (x2 - x3)*(y3 - y4)*(z1 - z2) + (x3 - x4)*(y1 - y2)*(z2 - z3) - (x3 - x4)*(y2 - y3)*(z1 - z2))\n",
    "    b = (-((x1 - x2)*(z2 - z3) - (x2 - x3)*(z1 - z2))*(x3^2 - x4^2 + y3^2 - y4^2 + z3^2 - z4^2)/2 + ((x1 - x2)*(z3 - z4) - (x3 - x4)*(z1 - z2))*(x2^2 - x3^2 + y2^2 - y3^2 + z2^2 - z3^2)/2 - ((x2 - x3)*(z3 - z4) - (x3 - x4)*(z2 - z3))*(x1^2 - x2^2 + y1^2 - y2^2 + z1^2 - z2^2)/2)/((x1 - x2)*(y2 - y3)*(z3 - z4) - (x1 - x2)*(y3 - y4)*(z2 - z3) - (x2 - x3)*(y1 - y2)*(z3 - z4) + (x2 - x3)*(y3 - y4)*(z1 - z2) + (x3 - x4)*(y1 - y2)*(z2 - z3) - (x3 - x4)*(y2 - y3)*(z1 - z2))\n",
    "    c = (((x1 - x2)*(y2 - y3) - (x2 - x3)*(y1 - y2))*(x3^2 - x4^2 + y3^2 - y4^2 + z3^2 - z4^2)/2 - ((x1 - x2)*(y3 - y4) - (x3 - x4)*(y1 - y2))*(x2^2 - x3^2 + y2^2 - y3^2 + z2^2 - z3^2)/2 + ((x2 - x3)*(y3 - y4) - (x3 - x4)*(y2 - y3))*(x1^2 - x2^2 + y1^2 - y2^2 + z1^2 - z2^2)/2)/((x1 - x2)*(y2 - y3)*(z3 - z4) - (x1 - x2)*(y3 - y4)*(z2 - z3) - (x2 - x3)*(y1 - y2)*(z3 - z4) + (x2 - x3)*(y3 - y4)*(z1 - z2) + (x3 - x4)*(y1 - y2)*(z2 - z3) - (x3 - x4)*(y2 - y3)*(z1 - z2))\n",
    "    center = [a, b, c]\n",
    "    r = norm(points[1] - center)\n",
    "    return Sphere([a, b, c], r)\n",
    "end\n",
    "\n",
    "\n",
    "function is_inner(point, sphere)\n",
    "    return norm(point - sphere.center) < sphere.radius\n",
    "end\n",
    "\n",
    "function outer_tetrahedron(L1, L2, L3)\n",
    "    r = sqrt(L1^2 + L2^2 + L3^2) / 2\n",
    "    x = L1 / 2\n",
    "    y = L2 / 2\n",
    "    z = L3 / 2\n",
    "    p1 = [x - 2r, y - sqrt(3)*r, -r]\n",
    "    p2 = [x + 2r, y - sqrt(3)*r, -r]\n",
    "    p3 = [x, y + 2r, -r]\n",
    "    p4 = [0, 0, r]\n",
    "    return [p1, p2, p3, p4]\n",
    "end"
   ]
  },
  {
   "cell_type": "code",
   "execution_count": 24,
   "metadata": {},
   "outputs": [
    {
     "data": {
      "text/plain": [
       "main (generic function with 1 method)"
      ]
     },
     "execution_count": 24,
     "metadata": {},
     "output_type": "execute_result"
    }
   ],
   "source": [
    "function main()\n",
    "    L1 = 500\n",
    "    L2 = 500\n",
    "    L3 = 500\n",
    "    # 外部三角形\n",
    "    tetra_out = outer_tetrahedron(L1, L2, L3)\n",
    "    # 初期Triangle set\n",
    "    set0 = [tetra_out]\n",
    "    for _ in 1:20\n",
    "        # 新しいPoint [0~width, 0~height] - [heigth/2, width/2]\n",
    "        p_new = [L1*rand() - L1/2, L2*rand() - L2/2, L3*rand() - L3/2]\n",
    "        # set0の各Triangleの外接円とp_newを比較，is_innerとなるtriangleを列挙する\n",
    "        set_temp = filter(tetra->is_inner(p_new, circumsphere(tetra)), set0)\n",
    "        set0 = filter(tetra->!(tetra in set_temp), set0)\n",
    "        # 1つ１つの三角形から2点取り出して新たに三角形を作る\n",
    "        set2 = []\n",
    "        for tetra in set_temp\n",
    "            tetra_new = [[p_new, tetra[1], tetra[2], tetra[3]], [p_new, tetra[1], tetra[2], tetra[4]], [p_new, tetra[1], tetra[3], tetra[4]], [p_new, tetra[2], tetra[3], tetra[4]]]\n",
    "            push!(set2, tetra_new...)\n",
    "        end\n",
    "        # set2の中でTriangleが重複しないものだけ取り出す\n",
    "        set2 = filter(tri->length(findall(x->x==tri, set2))==1, set2)\n",
    "        set0 = push!(set0, set2...)\n",
    "    end\n",
    "    set0\n",
    "end"
   ]
  },
  {
   "cell_type": "code",
   "execution_count": 25,
   "metadata": {},
   "outputs": [
    {
     "data": {
      "text/plain": [
       "120-element Array{Array{Array{Float64,1},1},1}:\n",
       " [[52.81303707143434, -145.73031787377687, -232.94196530082502], [229.64080592789605, -92.60568353859057, -32.1076225097795], [1116.0254037844386, -499.9999999999999, -433.0127018922193], [250.0, 1116.0254037844386, -433.0127018922193]]\n",
       " [[52.81303707143434, -145.73031787377687, -232.94196530082502], [-616.0254037844386, -499.9999999999999, -433.0127018922193], [1116.0254037844386, -499.9999999999999, -433.0127018922193], [250.0, 1116.0254037844386, -433.0127018922193]]\n",
       " [[53.3884056568308, 4.556034892807645, 10.889919527281563], [128.94069218934533, 18.441676100206507, 110.21590501873357], [-16.67334142001343, -87.74302708351411, 30.65114166432312], [229.64080592789605, -92.60568353859057, -32.1076225097795]]\n",
       " [[53.3884056568308, 4.556034892807645, 10.889919527281563], [-16.67334142001343, -87.74302708351411, 30.65114166432312], [52.81303707143434, -145.73031787377687, -232.94196530082502], [229.64080592789605, -92.60568353859057, -32.1076225097795]]\n",
       " [[-49.965221016397436, 60.9546246991294, 174.848932773247], [53.3884056568308, 4.556034892807645, 10.889919527281563], [128.94069218934533, 18.441676100206507, 110.21590501873357], [-16.67334142001343, -87.74302708351411, 30.65114166432312]]\n",
       " [[-49.965221016397436, 60.9546246991294, 174.848932773247], [128.94069218934533, 18.441676100206507, 110.21590501873357], [-16.67334142001343, -87.74302708351411, 30.65114166432312], [0.0, 0.0, 433.0127018922193]]\n",
       " [[-39.706587221382534, -135.50020304954936, 14.429887944121504], [-16.67334142001343, -87.74302708351411, 30.65114166432312], [52.81303707143434, -145.73031787377687, -232.94196530082502], [229.64080592789605, -92.60568353859057, -32.1076225097795]]\n",
       " [[-39.706587221382534, -135.50020304954936, 14.429887944121504], [128.94069218934533, 18.441676100206507, 110.21590501873357], [-16.67334142001343, -87.74302708351411, 30.65114166432312], [229.64080592789605, -92.60568353859057, -32.1076225097795]]\n",
       " [[-39.706587221382534, -135.50020304954936, 14.429887944121504], [128.94069218934533, 18.441676100206507, 110.21590501873357], [-16.67334142001343, -87.74302708351411, 30.65114166432312], [0.0, 0.0, 433.0127018922193]]\n",
       " [[-39.706587221382534, -135.50020304954936, 14.429887944121504], [128.94069218934533, 18.441676100206507, 110.21590501873357], [229.64080592789605, -92.60568353859057, -32.1076225097795], [0.0, 0.0, 433.0127018922193]]\n",
       " [[-24.24829778937098, 41.6557980664993, -58.38917606546124], [53.3884056568308, 4.556034892807645, 10.889919527281563], [-16.67334142001343, -87.74302708351411, 30.65114166432312], [52.81303707143434, -145.73031787377687, -232.94196530082502]]\n",
       " [[-24.24829778937098, 41.6557980664993, -58.38917606546124], [53.3884056568308, 4.556034892807645, 10.889919527281563], [52.81303707143434, -145.73031787377687, -232.94196530082502], [229.64080592789605, -92.60568353859057, -32.1076225097795]]\n",
       " [[-24.24829778937098, 41.6557980664993, -58.38917606546124], [-39.706587221382534, -135.50020304954936, 14.429887944121504], [-16.67334142001343, -87.74302708351411, 30.65114166432312], [52.81303707143434, -145.73031787377687, -232.94196530082502]]\n",
       " ⋮\n",
       " [[-183.04551310193608, 249.82750014459242, -236.64361846519543], [-88.75570263660981, -192.84597196898477, -33.815127741996804], [-34.10811895377597, -247.06440833695032, -64.48366721788622], [0.0, 0.0, 433.0127018922193]]\n",
       " [[-183.04551310193608, 249.82750014459242, -236.64361846519543], [-34.10811895377597, -247.06440833695032, -64.48366721788622], [250.0, 1116.0254037844386, -433.0127018922193], [0.0, 0.0, 433.0127018922193]]\n",
       " [[-183.04551310193608, 249.82750014459242, -236.64361846519543], [-177.26139269931974, -196.4391040241732, 116.47736684073641], [-34.10811895377597, -247.06440833695032, -64.48366721788622], [-616.0254037844386, -499.9999999999999, -433.0127018922193]]\n",
       " [[-183.04551310193608, 249.82750014459242, -236.64361846519543], [-177.26139269931974, -196.4391040241732, 116.47736684073641], [-34.10811895377597, -247.06440833695032, -64.48366721788622], [0.0, 0.0, 433.0127018922193]]\n",
       " [[-183.04551310193608, 249.82750014459242, -236.64361846519543], [-34.10811895377597, -247.06440833695032, -64.48366721788622], [-616.0254037844386, -499.9999999999999, -433.0127018922193], [0.0, 0.0, 433.0127018922193]]\n",
       " [[-183.04551310193608, 249.82750014459242, -236.64361846519543], [-177.26139269931974, -196.4391040241732, 116.47736684073641], [-616.0254037844386, -499.9999999999999, -433.0127018922193], [1116.0254037844386, -499.9999999999999, -433.0127018922193]]\n",
       " [[-183.04551310193608, 249.82750014459242, -236.64361846519543], [-177.26139269931974, -196.4391040241732, 116.47736684073641], [1116.0254037844386, -499.9999999999999, -433.0127018922193], [0.0, 0.0, 433.0127018922193]]\n",
       " [[-183.04551310193608, 249.82750014459242, -236.64361846519543], [-616.0254037844386, -499.9999999999999, -433.0127018922193], [1116.0254037844386, -499.9999999999999, -433.0127018922193], [0.0, 0.0, 433.0127018922193]]\n",
       " [[-183.04551310193608, 249.82750014459242, -236.64361846519543], [-177.26139269931974, -196.4391040241732, 116.47736684073641], [-88.75570263660981, -192.84597196898477, -33.815127741996804], [-113.74094506639955, 116.63457796702835, 231.3110486909522]]\n",
       " [[-183.04551310193608, 249.82750014459242, -236.64361846519543], [-177.26139269931974, -196.4391040241732, 116.47736684073641], [-113.74094506639955, 116.63457796702835, 231.3110486909522], [-616.0254037844386, -499.9999999999999, -433.0127018922193]]\n",
       " [[-183.04551310193608, 249.82750014459242, -236.64361846519543], [-177.26139269931974, -196.4391040241732, 116.47736684073641], [-88.75570263660981, -192.84597196898477, -33.815127741996804], [0.0, 0.0, 433.0127018922193]]\n",
       " [[-183.04551310193608, 249.82750014459242, -236.64361846519543], [-616.0254037844386, -499.9999999999999, -433.0127018922193], [250.0, 1116.0254037844386, -433.0127018922193], [0.0, 0.0, 433.0127018922193]]"
      ]
     },
     "execution_count": 25,
     "metadata": {},
     "output_type": "execute_result"
    }
   ],
   "source": [
    "tetras_end = main()"
   ]
  },
  {
   "cell_type": "markdown",
   "metadata": {},
   "source": [
    "## objファイルで出力する"
   ]
  },
  {
   "cell_type": "code",
   "execution_count": 26,
   "metadata": {},
   "outputs": [
    {
     "data": {
      "text/plain": [
       "out_obj (generic function with 1 method)"
      ]
     },
     "execution_count": 26,
     "metadata": {},
     "output_type": "execute_result"
    }
   ],
   "source": [
    "function out_obj(tetras)\n",
    "    lines = \"# commen\\n\"\n",
    "    indices = []\n",
    "    for tetra in tetras\n",
    "        for v in tetra\n",
    "            lines *= @sprintf(\"v %f %f %f\\n\", v...)\n",
    "        end\n",
    "    end\n",
    "    # 法線ベクトル\n",
    "    lines *= @sprintf(\"vn %f %f %f\\n\", 0.0, 0.0, 1.0)\n",
    "    for i in 1:length(tetras)\n",
    "        lines *= @sprintf(\"f %d//1 %d//1 %d//1\\n\", 4*i - 3, 4*i - 2, 4*i - 1)\n",
    "        lines *= @sprintf(\"f %d//1 %d//1 %d//1\\n\", 4*i - 3, 4*i - 2, 4*i)\n",
    "        lines *= @sprintf(\"f %d//1 %d//1 %d//1\\n\", 4*i - 3, 4*i - 1, 4*i)\n",
    "        lines *= @sprintf(\"f %d//1 %d//1 %d//1\\n\", 4*i - 2, 4*i - 1, 4*i)\n",
    "    end\n",
    "    f = open(\"test.obj\", \"w\")\n",
    "    write(f, lines)\n",
    "    close(f)\n",
    "end"
   ]
  },
  {
   "cell_type": "code",
   "execution_count": 27,
   "metadata": {},
   "outputs": [],
   "source": [
    "out_obj(tetras_end)"
   ]
  },
  {
   "cell_type": "code",
   "execution_count": null,
   "metadata": {},
   "outputs": [],
   "source": []
  }
 ],
 "metadata": {
  "kernelspec": {
   "display_name": "Julia 1.5.2",
   "language": "julia",
   "name": "julia-1.5"
  },
  "language_info": {
   "file_extension": ".jl",
   "mimetype": "application/julia",
   "name": "julia",
   "version": "1.5.2"
  }
 },
 "nbformat": 4,
 "nbformat_minor": 4
}
